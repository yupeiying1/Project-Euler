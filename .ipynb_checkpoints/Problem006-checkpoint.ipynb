{
 "cells": [
  {
   "cell_type": "markdown",
   "metadata": {},
   "source": [
    "The sum of the squares of the first ten natural numbers is,\n",
    "\n",
    "$1^2 + 2^2 + \\cdots + 10^2 = 385$\n",
    "\n",
    "The square of the sum of the first ten natural numbers is,\n",
    "\n",
    "$(1 + 2 + \\cdots + 10)^2 = 3025$\n",
    "\n",
    "Hence the difference between the sum of the squares of the first ten natural numbers and the square of the sum is $3025 - 385 =2640$.\n",
    "\n",
    "Find the difference between the sum of the squares of the first one hundred natural numbers and the square of the sum."
   ]
  },
  {
   "cell_type": "code",
   "execution_count": 1,
   "metadata": {},
   "outputs": [
    {
     "data": {
      "text/plain": [
       "25164150"
      ]
     },
     "execution_count": 1,
     "metadata": {},
     "output_type": "execute_result"
    }
   ],
   "source": [
    "#a^2 - b^2 = (a+b)*(a-b)\n",
    "a = 5050 #sum from 1 to 100\n",
    "b = 1\n",
    "s = 0\n",
    "\n",
    "for i in range(2,101):\n",
    "    s+=i**2\n",
    "(a+b)*(a-b)-s "
   ]
  }
 ],
 "metadata": {
  "kernelspec": {
   "display_name": "Python 3",
   "language": "python",
   "name": "python3"
  },
  "language_info": {
   "codemirror_mode": {
    "name": "ipython",
    "version": 3
   },
   "file_extension": ".py",
   "mimetype": "text/x-python",
   "name": "python",
   "nbconvert_exporter": "python",
   "pygments_lexer": "ipython3",
   "version": "3.7.0"
  }
 },
 "nbformat": 4,
 "nbformat_minor": 2
}
